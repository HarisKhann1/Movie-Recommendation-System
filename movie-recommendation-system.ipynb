{
 "cells": [
  {
   "cell_type": "code",
   "execution_count": 1,
   "id": "5b909e38",
   "metadata": {
    "_cell_guid": "b1076dfc-b9ad-4769-8c92-a6c4dae69d19",
    "_uuid": "8f2839f25d086af736a60e9eeb907d3b93b6e0e5",
    "execution": {
     "iopub.execute_input": "2025-05-12T18:38:22.958824Z",
     "iopub.status.busy": "2025-05-12T18:38:22.958474Z",
     "iopub.status.idle": "2025-05-12T18:38:24.716625Z",
     "shell.execute_reply": "2025-05-12T18:38:24.715741Z"
    },
    "papermill": {
     "duration": 1.776399,
     "end_time": "2025-05-12T18:38:24.718421",
     "exception": false,
     "start_time": "2025-05-12T18:38:22.942022",
     "status": "completed"
    },
    "tags": []
   },
   "outputs": [],
   "source": [
    "import numpy as np\n",
    "import pandas as pd\n",
    "import json"
   ]
  },
  {
   "cell_type": "code",
   "execution_count": 2,
   "id": "bd4211e3",
   "metadata": {
    "execution": {
     "iopub.execute_input": "2025-05-12T18:38:24.736233Z",
     "iopub.status.busy": "2025-05-12T18:38:24.735776Z",
     "iopub.status.idle": "2025-05-12T18:38:25.916738Z",
     "shell.execute_reply": "2025-05-12T18:38:25.915822Z"
    },
    "papermill": {
     "duration": 1.191714,
     "end_time": "2025-05-12T18:38:25.918664",
     "exception": false,
     "start_time": "2025-05-12T18:38:24.726950",
     "status": "completed"
    },
    "tags": []
   },
   "outputs": [],
   "source": [
    "movies = pd.read_csv('/kaggle/input/tmdb-movie-metadata/tmdb_5000_movies.csv')\n",
    "credits = pd.read_csv('/kaggle/input/tmdb-movie-metadata/tmdb_5000_credits.csv')"
   ]
  },
  {
   "cell_type": "code",
   "execution_count": 3,
   "id": "39b9de78",
   "metadata": {
    "execution": {
     "iopub.execute_input": "2025-05-12T18:38:25.937741Z",
     "iopub.status.busy": "2025-05-12T18:38:25.937486Z",
     "iopub.status.idle": "2025-05-12T18:38:25.967496Z",
     "shell.execute_reply": "2025-05-12T18:38:25.966539Z"
    },
    "papermill": {
     "duration": 0.040427,
     "end_time": "2025-05-12T18:38:25.968977",
     "exception": false,
     "start_time": "2025-05-12T18:38:25.928550",
     "status": "completed"
    },
    "tags": []
   },
   "outputs": [
    {
     "data": {
      "text/html": [
       "<div>\n",
       "<style scoped>\n",
       "    .dataframe tbody tr th:only-of-type {\n",
       "        vertical-align: middle;\n",
       "    }\n",
       "\n",
       "    .dataframe tbody tr th {\n",
       "        vertical-align: top;\n",
       "    }\n",
       "\n",
       "    .dataframe thead th {\n",
       "        text-align: right;\n",
       "    }\n",
       "</style>\n",
       "<table border=\"1\" class=\"dataframe\">\n",
       "  <thead>\n",
       "    <tr style=\"text-align: right;\">\n",
       "      <th></th>\n",
       "      <th>budget</th>\n",
       "      <th>genres</th>\n",
       "      <th>homepage</th>\n",
       "      <th>id</th>\n",
       "      <th>keywords</th>\n",
       "      <th>original_language</th>\n",
       "      <th>original_title</th>\n",
       "      <th>overview</th>\n",
       "      <th>popularity</th>\n",
       "      <th>production_companies</th>\n",
       "      <th>production_countries</th>\n",
       "      <th>release_date</th>\n",
       "      <th>revenue</th>\n",
       "      <th>runtime</th>\n",
       "      <th>spoken_languages</th>\n",
       "      <th>status</th>\n",
       "      <th>tagline</th>\n",
       "      <th>title</th>\n",
       "      <th>vote_average</th>\n",
       "      <th>vote_count</th>\n",
       "    </tr>\n",
       "  </thead>\n",
       "  <tbody>\n",
       "    <tr>\n",
       "      <th>0</th>\n",
       "      <td>237000000</td>\n",
       "      <td>[{\"id\": 28, \"name\": \"Action\"}, {\"id\": 12, \"nam...</td>\n",
       "      <td>http://www.avatarmovie.com/</td>\n",
       "      <td>19995</td>\n",
       "      <td>[{\"id\": 1463, \"name\": \"culture clash\"}, {\"id\":...</td>\n",
       "      <td>en</td>\n",
       "      <td>Avatar</td>\n",
       "      <td>In the 22nd century, a paraplegic Marine is di...</td>\n",
       "      <td>150.437577</td>\n",
       "      <td>[{\"name\": \"Ingenious Film Partners\", \"id\": 289...</td>\n",
       "      <td>[{\"iso_3166_1\": \"US\", \"name\": \"United States o...</td>\n",
       "      <td>2009-12-10</td>\n",
       "      <td>2787965087</td>\n",
       "      <td>162.0</td>\n",
       "      <td>[{\"iso_639_1\": \"en\", \"name\": \"English\"}, {\"iso...</td>\n",
       "      <td>Released</td>\n",
       "      <td>Enter the World of Pandora.</td>\n",
       "      <td>Avatar</td>\n",
       "      <td>7.2</td>\n",
       "      <td>11800</td>\n",
       "    </tr>\n",
       "  </tbody>\n",
       "</table>\n",
       "</div>"
      ],
      "text/plain": [
       "      budget                                             genres  \\\n",
       "0  237000000  [{\"id\": 28, \"name\": \"Action\"}, {\"id\": 12, \"nam...   \n",
       "\n",
       "                      homepage     id  \\\n",
       "0  http://www.avatarmovie.com/  19995   \n",
       "\n",
       "                                            keywords original_language  \\\n",
       "0  [{\"id\": 1463, \"name\": \"culture clash\"}, {\"id\":...                en   \n",
       "\n",
       "  original_title                                           overview  \\\n",
       "0         Avatar  In the 22nd century, a paraplegic Marine is di...   \n",
       "\n",
       "   popularity                               production_companies  \\\n",
       "0  150.437577  [{\"name\": \"Ingenious Film Partners\", \"id\": 289...   \n",
       "\n",
       "                                production_countries release_date     revenue  \\\n",
       "0  [{\"iso_3166_1\": \"US\", \"name\": \"United States o...   2009-12-10  2787965087   \n",
       "\n",
       "   runtime                                   spoken_languages    status  \\\n",
       "0    162.0  [{\"iso_639_1\": \"en\", \"name\": \"English\"}, {\"iso...  Released   \n",
       "\n",
       "                       tagline   title  vote_average  vote_count  \n",
       "0  Enter the World of Pandora.  Avatar           7.2       11800  "
      ]
     },
     "execution_count": 3,
     "metadata": {},
     "output_type": "execute_result"
    }
   ],
   "source": [
    "movies.head(1)"
   ]
  },
  {
   "cell_type": "code",
   "execution_count": 4,
   "id": "5adb09fe",
   "metadata": {
    "execution": {
     "iopub.execute_input": "2025-05-12T18:38:25.987025Z",
     "iopub.status.busy": "2025-05-12T18:38:25.986432Z",
     "iopub.status.idle": "2025-05-12T18:38:25.994877Z",
     "shell.execute_reply": "2025-05-12T18:38:25.994022Z"
    },
    "papermill": {
     "duration": 0.018823,
     "end_time": "2025-05-12T18:38:25.996118",
     "exception": false,
     "start_time": "2025-05-12T18:38:25.977295",
     "status": "completed"
    },
    "tags": []
   },
   "outputs": [
    {
     "data": {
      "text/html": [
       "<div>\n",
       "<style scoped>\n",
       "    .dataframe tbody tr th:only-of-type {\n",
       "        vertical-align: middle;\n",
       "    }\n",
       "\n",
       "    .dataframe tbody tr th {\n",
       "        vertical-align: top;\n",
       "    }\n",
       "\n",
       "    .dataframe thead th {\n",
       "        text-align: right;\n",
       "    }\n",
       "</style>\n",
       "<table border=\"1\" class=\"dataframe\">\n",
       "  <thead>\n",
       "    <tr style=\"text-align: right;\">\n",
       "      <th></th>\n",
       "      <th>movie_id</th>\n",
       "      <th>title</th>\n",
       "      <th>cast</th>\n",
       "      <th>crew</th>\n",
       "    </tr>\n",
       "  </thead>\n",
       "  <tbody>\n",
       "    <tr>\n",
       "      <th>0</th>\n",
       "      <td>19995</td>\n",
       "      <td>Avatar</td>\n",
       "      <td>[{\"cast_id\": 242, \"character\": \"Jake Sully\", \"...</td>\n",
       "      <td>[{\"credit_id\": \"52fe48009251416c750aca23\", \"de...</td>\n",
       "    </tr>\n",
       "  </tbody>\n",
       "</table>\n",
       "</div>"
      ],
      "text/plain": [
       "   movie_id   title                                               cast  \\\n",
       "0     19995  Avatar  [{\"cast_id\": 242, \"character\": \"Jake Sully\", \"...   \n",
       "\n",
       "                                                crew  \n",
       "0  [{\"credit_id\": \"52fe48009251416c750aca23\", \"de...  "
      ]
     },
     "execution_count": 4,
     "metadata": {},
     "output_type": "execute_result"
    }
   ],
   "source": [
    "credits.head(1)"
   ]
  },
  {
   "cell_type": "code",
   "execution_count": 5,
   "id": "c8fce060",
   "metadata": {
    "execution": {
     "iopub.execute_input": "2025-05-12T18:38:26.015034Z",
     "iopub.status.busy": "2025-05-12T18:38:26.014458Z",
     "iopub.status.idle": "2025-05-12T18:38:26.020023Z",
     "shell.execute_reply": "2025-05-12T18:38:26.019132Z"
    },
    "papermill": {
     "duration": 0.016629,
     "end_time": "2025-05-12T18:38:26.021325",
     "exception": false,
     "start_time": "2025-05-12T18:38:26.004696",
     "status": "completed"
    },
    "tags": []
   },
   "outputs": [
    {
     "data": {
      "text/plain": [
       "(4803, 20)"
      ]
     },
     "execution_count": 5,
     "metadata": {},
     "output_type": "execute_result"
    }
   ],
   "source": [
    "# original shape of the movies data\n",
    "movies.shape"
   ]
  },
  {
   "cell_type": "code",
   "execution_count": 6,
   "id": "681f8e63",
   "metadata": {
    "execution": {
     "iopub.execute_input": "2025-05-12T18:38:26.039247Z",
     "iopub.status.busy": "2025-05-12T18:38:26.038716Z",
     "iopub.status.idle": "2025-05-12T18:38:26.043848Z",
     "shell.execute_reply": "2025-05-12T18:38:26.043079Z"
    },
    "papermill": {
     "duration": 0.015376,
     "end_time": "2025-05-12T18:38:26.045029",
     "exception": false,
     "start_time": "2025-05-12T18:38:26.029653",
     "status": "completed"
    },
    "tags": []
   },
   "outputs": [
    {
     "data": {
      "text/plain": [
       "(4803, 4)"
      ]
     },
     "execution_count": 6,
     "metadata": {},
     "output_type": "execute_result"
    }
   ],
   "source": [
    "# original shape of the credits data\n",
    "credits.shape"
   ]
  },
  {
   "cell_type": "code",
   "execution_count": 7,
   "id": "ad4ef97a",
   "metadata": {
    "execution": {
     "iopub.execute_input": "2025-05-12T18:38:26.063144Z",
     "iopub.status.busy": "2025-05-12T18:38:26.062625Z",
     "iopub.status.idle": "2025-05-12T18:38:26.086815Z",
     "shell.execute_reply": "2025-05-12T18:38:26.085895Z"
    },
    "papermill": {
     "duration": 0.035077,
     "end_time": "2025-05-12T18:38:26.088431",
     "exception": false,
     "start_time": "2025-05-12T18:38:26.053354",
     "status": "completed"
    },
    "tags": []
   },
   "outputs": [],
   "source": [
    "# merging the data both dataset into movies on the basis of title\n",
    "movies = movies.merge(credits, on='title')"
   ]
  },
  {
   "cell_type": "code",
   "execution_count": 8,
   "id": "10838371",
   "metadata": {
    "execution": {
     "iopub.execute_input": "2025-05-12T18:38:26.107144Z",
     "iopub.status.busy": "2025-05-12T18:38:26.106623Z",
     "iopub.status.idle": "2025-05-12T18:38:26.111931Z",
     "shell.execute_reply": "2025-05-12T18:38:26.111130Z"
    },
    "papermill": {
     "duration": 0.016186,
     "end_time": "2025-05-12T18:38:26.113121",
     "exception": false,
     "start_time": "2025-05-12T18:38:26.096935",
     "status": "completed"
    },
    "tags": []
   },
   "outputs": [
    {
     "data": {
      "text/plain": [
       "(4809, 23)"
      ]
     },
     "execution_count": 8,
     "metadata": {},
     "output_type": "execute_result"
    }
   ],
   "source": [
    "# movies shape changed to 23 from 20\n",
    "movies.shape"
   ]
  },
  {
   "cell_type": "code",
   "execution_count": 9,
   "id": "c4b4de73",
   "metadata": {
    "execution": {
     "iopub.execute_input": "2025-05-12T18:38:26.132152Z",
     "iopub.status.busy": "2025-05-12T18:38:26.131409Z",
     "iopub.status.idle": "2025-05-12T18:38:26.149158Z",
     "shell.execute_reply": "2025-05-12T18:38:26.148333Z"
    },
    "papermill": {
     "duration": 0.028604,
     "end_time": "2025-05-12T18:38:26.150493",
     "exception": false,
     "start_time": "2025-05-12T18:38:26.121889",
     "status": "completed"
    },
    "tags": []
   },
   "outputs": [
    {
     "data": {
      "text/html": [
       "<div>\n",
       "<style scoped>\n",
       "    .dataframe tbody tr th:only-of-type {\n",
       "        vertical-align: middle;\n",
       "    }\n",
       "\n",
       "    .dataframe tbody tr th {\n",
       "        vertical-align: top;\n",
       "    }\n",
       "\n",
       "    .dataframe thead th {\n",
       "        text-align: right;\n",
       "    }\n",
       "</style>\n",
       "<table border=\"1\" class=\"dataframe\">\n",
       "  <thead>\n",
       "    <tr style=\"text-align: right;\">\n",
       "      <th></th>\n",
       "      <th>budget</th>\n",
       "      <th>genres</th>\n",
       "      <th>homepage</th>\n",
       "      <th>id</th>\n",
       "      <th>keywords</th>\n",
       "      <th>original_language</th>\n",
       "      <th>original_title</th>\n",
       "      <th>overview</th>\n",
       "      <th>popularity</th>\n",
       "      <th>production_companies</th>\n",
       "      <th>...</th>\n",
       "      <th>runtime</th>\n",
       "      <th>spoken_languages</th>\n",
       "      <th>status</th>\n",
       "      <th>tagline</th>\n",
       "      <th>title</th>\n",
       "      <th>vote_average</th>\n",
       "      <th>vote_count</th>\n",
       "      <th>movie_id</th>\n",
       "      <th>cast</th>\n",
       "      <th>crew</th>\n",
       "    </tr>\n",
       "  </thead>\n",
       "  <tbody>\n",
       "    <tr>\n",
       "      <th>0</th>\n",
       "      <td>237000000</td>\n",
       "      <td>[{\"id\": 28, \"name\": \"Action\"}, {\"id\": 12, \"nam...</td>\n",
       "      <td>http://www.avatarmovie.com/</td>\n",
       "      <td>19995</td>\n",
       "      <td>[{\"id\": 1463, \"name\": \"culture clash\"}, {\"id\":...</td>\n",
       "      <td>en</td>\n",
       "      <td>Avatar</td>\n",
       "      <td>In the 22nd century, a paraplegic Marine is di...</td>\n",
       "      <td>150.437577</td>\n",
       "      <td>[{\"name\": \"Ingenious Film Partners\", \"id\": 289...</td>\n",
       "      <td>...</td>\n",
       "      <td>162.0</td>\n",
       "      <td>[{\"iso_639_1\": \"en\", \"name\": \"English\"}, {\"iso...</td>\n",
       "      <td>Released</td>\n",
       "      <td>Enter the World of Pandora.</td>\n",
       "      <td>Avatar</td>\n",
       "      <td>7.2</td>\n",
       "      <td>11800</td>\n",
       "      <td>19995</td>\n",
       "      <td>[{\"cast_id\": 242, \"character\": \"Jake Sully\", \"...</td>\n",
       "      <td>[{\"credit_id\": \"52fe48009251416c750aca23\", \"de...</td>\n",
       "    </tr>\n",
       "  </tbody>\n",
       "</table>\n",
       "<p>1 rows × 23 columns</p>\n",
       "</div>"
      ],
      "text/plain": [
       "      budget                                             genres  \\\n",
       "0  237000000  [{\"id\": 28, \"name\": \"Action\"}, {\"id\": 12, \"nam...   \n",
       "\n",
       "                      homepage     id  \\\n",
       "0  http://www.avatarmovie.com/  19995   \n",
       "\n",
       "                                            keywords original_language  \\\n",
       "0  [{\"id\": 1463, \"name\": \"culture clash\"}, {\"id\":...                en   \n",
       "\n",
       "  original_title                                           overview  \\\n",
       "0         Avatar  In the 22nd century, a paraplegic Marine is di...   \n",
       "\n",
       "   popularity                               production_companies  ... runtime  \\\n",
       "0  150.437577  [{\"name\": \"Ingenious Film Partners\", \"id\": 289...  ...   162.0   \n",
       "\n",
       "                                    spoken_languages    status  \\\n",
       "0  [{\"iso_639_1\": \"en\", \"name\": \"English\"}, {\"iso...  Released   \n",
       "\n",
       "                       tagline   title vote_average vote_count movie_id  \\\n",
       "0  Enter the World of Pandora.  Avatar          7.2      11800    19995   \n",
       "\n",
       "                                                cast  \\\n",
       "0  [{\"cast_id\": 242, \"character\": \"Jake Sully\", \"...   \n",
       "\n",
       "                                                crew  \n",
       "0  [{\"credit_id\": \"52fe48009251416c750aca23\", \"de...  \n",
       "\n",
       "[1 rows x 23 columns]"
      ]
     },
     "execution_count": 9,
     "metadata": {},
     "output_type": "execute_result"
    }
   ],
   "source": [
    "movies.head(1)"
   ]
  },
  {
   "cell_type": "code",
   "execution_count": 10,
   "id": "32754af7",
   "metadata": {
    "execution": {
     "iopub.execute_input": "2025-05-12T18:38:26.169189Z",
     "iopub.status.busy": "2025-05-12T18:38:26.168634Z",
     "iopub.status.idle": "2025-05-12T18:38:26.190491Z",
     "shell.execute_reply": "2025-05-12T18:38:26.189387Z"
    },
    "papermill": {
     "duration": 0.032822,
     "end_time": "2025-05-12T18:38:26.192065",
     "exception": false,
     "start_time": "2025-05-12T18:38:26.159243",
     "status": "completed"
    },
    "tags": []
   },
   "outputs": [
    {
     "name": "stdout",
     "output_type": "stream",
     "text": [
      "<class 'pandas.core.frame.DataFrame'>\n",
      "RangeIndex: 4809 entries, 0 to 4808\n",
      "Data columns (total 7 columns):\n",
      " #   Column    Non-Null Count  Dtype \n",
      "---  ------    --------------  ----- \n",
      " 0   movie_id  4809 non-null   int64 \n",
      " 1   title     4809 non-null   object\n",
      " 2   overview  4806 non-null   object\n",
      " 3   genres    4809 non-null   object\n",
      " 4   keywords  4809 non-null   object\n",
      " 5   cast      4809 non-null   object\n",
      " 6   crew      4809 non-null   object\n",
      "dtypes: int64(1), object(6)\n",
      "memory usage: 263.1+ KB\n"
     ]
    }
   ],
   "source": [
    "# title\n",
    "# genres\n",
    "# id\n",
    "# keywords\n",
    "# overview\n",
    "# cast\n",
    "# crew\n",
    "\n",
    "movies = movies[['movie_id', 'title', 'overview', 'genres', 'keywords', 'cast', 'crew']]\n",
    "movies.info()"
   ]
  },
  {
   "cell_type": "code",
   "execution_count": 11,
   "id": "6592dca8",
   "metadata": {
    "execution": {
     "iopub.execute_input": "2025-05-12T18:38:26.211026Z",
     "iopub.status.busy": "2025-05-12T18:38:26.210742Z",
     "iopub.status.idle": "2025-05-12T18:38:26.220629Z",
     "shell.execute_reply": "2025-05-12T18:38:26.219774Z"
    },
    "papermill": {
     "duration": 0.020919,
     "end_time": "2025-05-12T18:38:26.221948",
     "exception": false,
     "start_time": "2025-05-12T18:38:26.201029",
     "status": "completed"
    },
    "tags": []
   },
   "outputs": [
    {
     "data": {
      "text/html": [
       "<div>\n",
       "<style scoped>\n",
       "    .dataframe tbody tr th:only-of-type {\n",
       "        vertical-align: middle;\n",
       "    }\n",
       "\n",
       "    .dataframe tbody tr th {\n",
       "        vertical-align: top;\n",
       "    }\n",
       "\n",
       "    .dataframe thead th {\n",
       "        text-align: right;\n",
       "    }\n",
       "</style>\n",
       "<table border=\"1\" class=\"dataframe\">\n",
       "  <thead>\n",
       "    <tr style=\"text-align: right;\">\n",
       "      <th></th>\n",
       "      <th>movie_id</th>\n",
       "      <th>title</th>\n",
       "      <th>overview</th>\n",
       "      <th>genres</th>\n",
       "      <th>keywords</th>\n",
       "      <th>cast</th>\n",
       "      <th>crew</th>\n",
       "    </tr>\n",
       "  </thead>\n",
       "  <tbody>\n",
       "    <tr>\n",
       "      <th>0</th>\n",
       "      <td>19995</td>\n",
       "      <td>Avatar</td>\n",
       "      <td>In the 22nd century, a paraplegic Marine is di...</td>\n",
       "      <td>[{\"id\": 28, \"name\": \"Action\"}, {\"id\": 12, \"nam...</td>\n",
       "      <td>[{\"id\": 1463, \"name\": \"culture clash\"}, {\"id\":...</td>\n",
       "      <td>[{\"cast_id\": 242, \"character\": \"Jake Sully\", \"...</td>\n",
       "      <td>[{\"credit_id\": \"52fe48009251416c750aca23\", \"de...</td>\n",
       "    </tr>\n",
       "  </tbody>\n",
       "</table>\n",
       "</div>"
      ],
      "text/plain": [
       "   movie_id   title                                           overview  \\\n",
       "0     19995  Avatar  In the 22nd century, a paraplegic Marine is di...   \n",
       "\n",
       "                                              genres  \\\n",
       "0  [{\"id\": 28, \"name\": \"Action\"}, {\"id\": 12, \"nam...   \n",
       "\n",
       "                                            keywords  \\\n",
       "0  [{\"id\": 1463, \"name\": \"culture clash\"}, {\"id\":...   \n",
       "\n",
       "                                                cast  \\\n",
       "0  [{\"cast_id\": 242, \"character\": \"Jake Sully\", \"...   \n",
       "\n",
       "                                                crew  \n",
       "0  [{\"credit_id\": \"52fe48009251416c750aca23\", \"de...  "
      ]
     },
     "execution_count": 11,
     "metadata": {},
     "output_type": "execute_result"
    }
   ],
   "source": [
    "movies.head(1)"
   ]
  },
  {
   "cell_type": "code",
   "execution_count": 12,
   "id": "55a04399",
   "metadata": {
    "execution": {
     "iopub.execute_input": "2025-05-12T18:38:26.241850Z",
     "iopub.status.busy": "2025-05-12T18:38:26.241543Z",
     "iopub.status.idle": "2025-05-12T18:38:26.252050Z",
     "shell.execute_reply": "2025-05-12T18:38:26.251153Z"
    },
    "papermill": {
     "duration": 0.022027,
     "end_time": "2025-05-12T18:38:26.253610",
     "exception": false,
     "start_time": "2025-05-12T18:38:26.231583",
     "status": "completed"
    },
    "tags": []
   },
   "outputs": [
    {
     "data": {
      "text/plain": [
       "movie_id    0\n",
       "title       0\n",
       "overview    3\n",
       "genres      0\n",
       "keywords    0\n",
       "cast        0\n",
       "crew        0\n",
       "dtype: int64"
      ]
     },
     "execution_count": 12,
     "metadata": {},
     "output_type": "execute_result"
    }
   ],
   "source": [
    "# checking for the null values in new dataset\n",
    "movies.isnull().sum()"
   ]
  },
  {
   "cell_type": "code",
   "execution_count": 13,
   "id": "44188606",
   "metadata": {
    "execution": {
     "iopub.execute_input": "2025-05-12T18:38:26.273661Z",
     "iopub.status.busy": "2025-05-12T18:38:26.272802Z",
     "iopub.status.idle": "2025-05-12T18:38:26.282115Z",
     "shell.execute_reply": "2025-05-12T18:38:26.281476Z"
    },
    "papermill": {
     "duration": 0.020377,
     "end_time": "2025-05-12T18:38:26.283355",
     "exception": false,
     "start_time": "2025-05-12T18:38:26.262978",
     "status": "completed"
    },
    "tags": []
   },
   "outputs": [],
   "source": [
    "# since the overview has three null values so we can remove them as the number is ot so big\n",
    "movies.dropna(inplace=True)"
   ]
  },
  {
   "cell_type": "code",
   "execution_count": 14,
   "id": "cda60c4f",
   "metadata": {
    "execution": {
     "iopub.execute_input": "2025-05-12T18:38:26.302769Z",
     "iopub.status.busy": "2025-05-12T18:38:26.302486Z",
     "iopub.status.idle": "2025-05-12T18:38:26.312645Z",
     "shell.execute_reply": "2025-05-12T18:38:26.311811Z"
    },
    "papermill": {
     "duration": 0.021131,
     "end_time": "2025-05-12T18:38:26.313931",
     "exception": false,
     "start_time": "2025-05-12T18:38:26.292800",
     "status": "completed"
    },
    "tags": []
   },
   "outputs": [
    {
     "data": {
      "text/plain": [
       "movie_id    0\n",
       "title       0\n",
       "overview    0\n",
       "genres      0\n",
       "keywords    0\n",
       "cast        0\n",
       "crew        0\n",
       "dtype: int64"
      ]
     },
     "execution_count": 14,
     "metadata": {},
     "output_type": "execute_result"
    }
   ],
   "source": [
    "movies.isnull().sum()"
   ]
  },
  {
   "cell_type": "code",
   "execution_count": 15,
   "id": "fc525872",
   "metadata": {
    "execution": {
     "iopub.execute_input": "2025-05-12T18:38:26.333591Z",
     "iopub.status.busy": "2025-05-12T18:38:26.332885Z",
     "iopub.status.idle": "2025-05-12T18:38:26.434108Z",
     "shell.execute_reply": "2025-05-12T18:38:26.433282Z"
    },
    "papermill": {
     "duration": 0.112513,
     "end_time": "2025-05-12T18:38:26.435574",
     "exception": false,
     "start_time": "2025-05-12T18:38:26.323061",
     "status": "completed"
    },
    "tags": []
   },
   "outputs": [
    {
     "data": {
      "text/plain": [
       "0"
      ]
     },
     "execution_count": 15,
     "metadata": {},
     "output_type": "execute_result"
    }
   ],
   "source": [
    "# checking for the duplicates\n",
    "movies.duplicated().sum()"
   ]
  },
  {
   "cell_type": "code",
   "execution_count": 16,
   "id": "8d903900",
   "metadata": {
    "execution": {
     "iopub.execute_input": "2025-05-12T18:38:26.455740Z",
     "iopub.status.busy": "2025-05-12T18:38:26.454989Z",
     "iopub.status.idle": "2025-05-12T18:38:26.460407Z",
     "shell.execute_reply": "2025-05-12T18:38:26.459737Z"
    },
    "papermill": {
     "duration": 0.016345,
     "end_time": "2025-05-12T18:38:26.461631",
     "exception": false,
     "start_time": "2025-05-12T18:38:26.445286",
     "status": "completed"
    },
    "tags": []
   },
   "outputs": [
    {
     "data": {
      "text/plain": [
       "'[{\"id\": 28, \"name\": \"Action\"}, {\"id\": 12, \"name\": \"Adventure\"}, {\"id\": 14, \"name\": \"Fantasy\"}, {\"id\": 878, \"name\": \"Science Fiction\"}]'"
      ]
     },
     "execution_count": 16,
     "metadata": {},
     "output_type": "execute_result"
    }
   ],
   "source": [
    "movies['genres'][0]"
   ]
  },
  {
   "cell_type": "code",
   "execution_count": 17,
   "id": "0fd90564",
   "metadata": {
    "execution": {
     "iopub.execute_input": "2025-05-12T18:38:26.481705Z",
     "iopub.status.busy": "2025-05-12T18:38:26.481440Z",
     "iopub.status.idle": "2025-05-12T18:38:26.485997Z",
     "shell.execute_reply": "2025-05-12T18:38:26.485163Z"
    },
    "papermill": {
     "duration": 0.016438,
     "end_time": "2025-05-12T18:38:26.487378",
     "exception": false,
     "start_time": "2025-05-12T18:38:26.470940",
     "status": "completed"
    },
    "tags": []
   },
   "outputs": [],
   "source": [
    "# '[{\"id\": 28, \"name\": \"Action\"}, {\"id\": 12, \"name\": \"Adventure\"}, {\"id\": 14, \"name\": \"Fantasy\"}, {\"id\": 878, \"name\": \"Science Fiction\"}]'\n",
    "# need transformation in this form to create tags\n",
    "# ['Action', 'Adventure', 'Fantasy', 'Science Fiction']\n",
    "def convert(obj):\n",
    "    lst = [i['name'] for i in json.loads(obj)] # converting the list of string into python list\n",
    "    return lst"
   ]
  },
  {
   "cell_type": "code",
   "execution_count": 18,
   "id": "91e913da",
   "metadata": {
    "execution": {
     "iopub.execute_input": "2025-05-12T18:38:26.568396Z",
     "iopub.status.busy": "2025-05-12T18:38:26.567678Z",
     "iopub.status.idle": "2025-05-12T18:38:26.589990Z",
     "shell.execute_reply": "2025-05-12T18:38:26.589363Z"
    },
    "papermill": {
     "duration": 0.033671,
     "end_time": "2025-05-12T18:38:26.591441",
     "exception": false,
     "start_time": "2025-05-12T18:38:26.557770",
     "status": "completed"
    },
    "tags": []
   },
   "outputs": [],
   "source": [
    "movies['genres'] = movies['genres'].apply(convert)"
   ]
  },
  {
   "cell_type": "code",
   "execution_count": 19,
   "id": "b91130f4",
   "metadata": {
    "execution": {
     "iopub.execute_input": "2025-05-12T18:38:26.611439Z",
     "iopub.status.busy": "2025-05-12T18:38:26.610872Z",
     "iopub.status.idle": "2025-05-12T18:38:26.621055Z",
     "shell.execute_reply": "2025-05-12T18:38:26.620262Z"
    },
    "papermill": {
     "duration": 0.021648,
     "end_time": "2025-05-12T18:38:26.622429",
     "exception": false,
     "start_time": "2025-05-12T18:38:26.600781",
     "status": "completed"
    },
    "tags": []
   },
   "outputs": [
    {
     "data": {
      "text/html": [
       "<div>\n",
       "<style scoped>\n",
       "    .dataframe tbody tr th:only-of-type {\n",
       "        vertical-align: middle;\n",
       "    }\n",
       "\n",
       "    .dataframe tbody tr th {\n",
       "        vertical-align: top;\n",
       "    }\n",
       "\n",
       "    .dataframe thead th {\n",
       "        text-align: right;\n",
       "    }\n",
       "</style>\n",
       "<table border=\"1\" class=\"dataframe\">\n",
       "  <thead>\n",
       "    <tr style=\"text-align: right;\">\n",
       "      <th></th>\n",
       "      <th>movie_id</th>\n",
       "      <th>title</th>\n",
       "      <th>overview</th>\n",
       "      <th>genres</th>\n",
       "      <th>keywords</th>\n",
       "      <th>cast</th>\n",
       "      <th>crew</th>\n",
       "    </tr>\n",
       "  </thead>\n",
       "  <tbody>\n",
       "    <tr>\n",
       "      <th>0</th>\n",
       "      <td>19995</td>\n",
       "      <td>Avatar</td>\n",
       "      <td>In the 22nd century, a paraplegic Marine is di...</td>\n",
       "      <td>[Action, Adventure, Fantasy, Science Fiction]</td>\n",
       "      <td>[{\"id\": 1463, \"name\": \"culture clash\"}, {\"id\":...</td>\n",
       "      <td>[{\"cast_id\": 242, \"character\": \"Jake Sully\", \"...</td>\n",
       "      <td>[{\"credit_id\": \"52fe48009251416c750aca23\", \"de...</td>\n",
       "    </tr>\n",
       "  </tbody>\n",
       "</table>\n",
       "</div>"
      ],
      "text/plain": [
       "   movie_id   title                                           overview  \\\n",
       "0     19995  Avatar  In the 22nd century, a paraplegic Marine is di...   \n",
       "\n",
       "                                          genres  \\\n",
       "0  [Action, Adventure, Fantasy, Science Fiction]   \n",
       "\n",
       "                                            keywords  \\\n",
       "0  [{\"id\": 1463, \"name\": \"culture clash\"}, {\"id\":...   \n",
       "\n",
       "                                                cast  \\\n",
       "0  [{\"cast_id\": 242, \"character\": \"Jake Sully\", \"...   \n",
       "\n",
       "                                                crew  \n",
       "0  [{\"credit_id\": \"52fe48009251416c750aca23\", \"de...  "
      ]
     },
     "execution_count": 19,
     "metadata": {},
     "output_type": "execute_result"
    }
   ],
   "source": [
    "# genres colums tranform in the list form\n",
    "movies.head(1)"
   ]
  },
  {
   "cell_type": "code",
   "execution_count": 20,
   "id": "10b7fde1",
   "metadata": {
    "execution": {
     "iopub.execute_input": "2025-05-12T18:38:26.642365Z",
     "iopub.status.busy": "2025-05-12T18:38:26.642011Z",
     "iopub.status.idle": "2025-05-12T18:38:26.759420Z",
     "shell.execute_reply": "2025-05-12T18:38:26.758524Z"
    },
    "papermill": {
     "duration": 0.129252,
     "end_time": "2025-05-12T18:38:26.761035",
     "exception": false,
     "start_time": "2025-05-12T18:38:26.631783",
     "status": "completed"
    },
    "tags": []
   },
   "outputs": [],
   "source": [
    "# now for keywords\n",
    "movies['keywords'] = movies['keywords'].apply(convert)"
   ]
  },
  {
   "cell_type": "code",
   "execution_count": 21,
   "id": "2d3c1c6a",
   "metadata": {
    "execution": {
     "iopub.execute_input": "2025-05-12T18:38:26.787299Z",
     "iopub.status.busy": "2025-05-12T18:38:26.786977Z",
     "iopub.status.idle": "2025-05-12T18:38:26.802905Z",
     "shell.execute_reply": "2025-05-12T18:38:26.801649Z"
    },
    "papermill": {
     "duration": 0.02922,
     "end_time": "2025-05-12T18:38:26.805322",
     "exception": false,
     "start_time": "2025-05-12T18:38:26.776102",
     "status": "completed"
    },
    "tags": []
   },
   "outputs": [
    {
     "data": {
      "text/html": [
       "<div>\n",
       "<style scoped>\n",
       "    .dataframe tbody tr th:only-of-type {\n",
       "        vertical-align: middle;\n",
       "    }\n",
       "\n",
       "    .dataframe tbody tr th {\n",
       "        vertical-align: top;\n",
       "    }\n",
       "\n",
       "    .dataframe thead th {\n",
       "        text-align: right;\n",
       "    }\n",
       "</style>\n",
       "<table border=\"1\" class=\"dataframe\">\n",
       "  <thead>\n",
       "    <tr style=\"text-align: right;\">\n",
       "      <th></th>\n",
       "      <th>movie_id</th>\n",
       "      <th>title</th>\n",
       "      <th>overview</th>\n",
       "      <th>genres</th>\n",
       "      <th>keywords</th>\n",
       "      <th>cast</th>\n",
       "      <th>crew</th>\n",
       "    </tr>\n",
       "  </thead>\n",
       "  <tbody>\n",
       "    <tr>\n",
       "      <th>0</th>\n",
       "      <td>19995</td>\n",
       "      <td>Avatar</td>\n",
       "      <td>In the 22nd century, a paraplegic Marine is di...</td>\n",
       "      <td>[Action, Adventure, Fantasy, Science Fiction]</td>\n",
       "      <td>[culture clash, future, space war, space colon...</td>\n",
       "      <td>[{\"cast_id\": 242, \"character\": \"Jake Sully\", \"...</td>\n",
       "      <td>[{\"credit_id\": \"52fe48009251416c750aca23\", \"de...</td>\n",
       "    </tr>\n",
       "  </tbody>\n",
       "</table>\n",
       "</div>"
      ],
      "text/plain": [
       "   movie_id   title                                           overview  \\\n",
       "0     19995  Avatar  In the 22nd century, a paraplegic Marine is di...   \n",
       "\n",
       "                                          genres  \\\n",
       "0  [Action, Adventure, Fantasy, Science Fiction]   \n",
       "\n",
       "                                            keywords  \\\n",
       "0  [culture clash, future, space war, space colon...   \n",
       "\n",
       "                                                cast  \\\n",
       "0  [{\"cast_id\": 242, \"character\": \"Jake Sully\", \"...   \n",
       "\n",
       "                                                crew  \n",
       "0  [{\"credit_id\": \"52fe48009251416c750aca23\", \"de...  "
      ]
     },
     "execution_count": 21,
     "metadata": {},
     "output_type": "execute_result"
    }
   ],
   "source": [
    "movies.head(1)"
   ]
  },
  {
   "cell_type": "code",
   "execution_count": 22,
   "id": "304af244",
   "metadata": {
    "execution": {
     "iopub.execute_input": "2025-05-12T18:38:26.834751Z",
     "iopub.status.busy": "2025-05-12T18:38:26.834453Z",
     "iopub.status.idle": "2025-05-12T18:38:26.839439Z",
     "shell.execute_reply": "2025-05-12T18:38:26.838552Z"
    },
    "papermill": {
     "duration": 0.019308,
     "end_time": "2025-05-12T18:38:26.840916",
     "exception": false,
     "start_time": "2025-05-12T18:38:26.821608",
     "status": "completed"
    },
    "tags": []
   },
   "outputs": [],
   "source": [
    "# now get the names of the top three actors/actress\n",
    "def convert_top_three(obj):\n",
    "    counter = 0\n",
    "    lst = []\n",
    "    data = json.loads(obj)\n",
    "    for i in data:\n",
    "        if counter != 3:\n",
    "            lst.append(i['name'])\n",
    "            counter += 1\n",
    "        else:\n",
    "            break\n",
    "    return lst\n"
   ]
  },
  {
   "cell_type": "code",
   "execution_count": 23,
   "id": "d0160b01",
   "metadata": {
    "execution": {
     "iopub.execute_input": "2025-05-12T18:38:26.868670Z",
     "iopub.status.busy": "2025-05-12T18:38:26.867891Z",
     "iopub.status.idle": "2025-05-12T18:38:27.079987Z",
     "shell.execute_reply": "2025-05-12T18:38:27.079312Z"
    },
    "papermill": {
     "duration": 0.225598,
     "end_time": "2025-05-12T18:38:27.081633",
     "exception": false,
     "start_time": "2025-05-12T18:38:26.856035",
     "status": "completed"
    },
    "tags": []
   },
   "outputs": [],
   "source": [
    "movies['cast'] = movies['cast'].apply(convert_top_three)"
   ]
  },
  {
   "cell_type": "code",
   "execution_count": 24,
   "id": "92514204",
   "metadata": {
    "execution": {
     "iopub.execute_input": "2025-05-12T18:38:27.102720Z",
     "iopub.status.busy": "2025-05-12T18:38:27.101762Z",
     "iopub.status.idle": "2025-05-12T18:38:27.112088Z",
     "shell.execute_reply": "2025-05-12T18:38:27.111285Z"
    },
    "papermill": {
     "duration": 0.02202,
     "end_time": "2025-05-12T18:38:27.113384",
     "exception": false,
     "start_time": "2025-05-12T18:38:27.091364",
     "status": "completed"
    },
    "tags": []
   },
   "outputs": [
    {
     "data": {
      "text/html": [
       "<div>\n",
       "<style scoped>\n",
       "    .dataframe tbody tr th:only-of-type {\n",
       "        vertical-align: middle;\n",
       "    }\n",
       "\n",
       "    .dataframe tbody tr th {\n",
       "        vertical-align: top;\n",
       "    }\n",
       "\n",
       "    .dataframe thead th {\n",
       "        text-align: right;\n",
       "    }\n",
       "</style>\n",
       "<table border=\"1\" class=\"dataframe\">\n",
       "  <thead>\n",
       "    <tr style=\"text-align: right;\">\n",
       "      <th></th>\n",
       "      <th>movie_id</th>\n",
       "      <th>title</th>\n",
       "      <th>overview</th>\n",
       "      <th>genres</th>\n",
       "      <th>keywords</th>\n",
       "      <th>cast</th>\n",
       "      <th>crew</th>\n",
       "    </tr>\n",
       "  </thead>\n",
       "  <tbody>\n",
       "    <tr>\n",
       "      <th>0</th>\n",
       "      <td>19995</td>\n",
       "      <td>Avatar</td>\n",
       "      <td>In the 22nd century, a paraplegic Marine is di...</td>\n",
       "      <td>[Action, Adventure, Fantasy, Science Fiction]</td>\n",
       "      <td>[culture clash, future, space war, space colon...</td>\n",
       "      <td>[Sam Worthington, Zoe Saldana, Sigourney Weaver]</td>\n",
       "      <td>[{\"credit_id\": \"52fe48009251416c750aca23\", \"de...</td>\n",
       "    </tr>\n",
       "  </tbody>\n",
       "</table>\n",
       "</div>"
      ],
      "text/plain": [
       "   movie_id   title                                           overview  \\\n",
       "0     19995  Avatar  In the 22nd century, a paraplegic Marine is di...   \n",
       "\n",
       "                                          genres  \\\n",
       "0  [Action, Adventure, Fantasy, Science Fiction]   \n",
       "\n",
       "                                            keywords  \\\n",
       "0  [culture clash, future, space war, space colon...   \n",
       "\n",
       "                                               cast  \\\n",
       "0  [Sam Worthington, Zoe Saldana, Sigourney Weaver]   \n",
       "\n",
       "                                                crew  \n",
       "0  [{\"credit_id\": \"52fe48009251416c750aca23\", \"de...  "
      ]
     },
     "execution_count": 24,
     "metadata": {},
     "output_type": "execute_result"
    }
   ],
   "source": [
    "movies.head(1)"
   ]
  },
  {
   "cell_type": "code",
   "execution_count": 25,
   "id": "691e2b63",
   "metadata": {
    "execution": {
     "iopub.execute_input": "2025-05-12T18:38:27.134428Z",
     "iopub.status.busy": "2025-05-12T18:38:27.134118Z",
     "iopub.status.idle": "2025-05-12T18:38:27.138581Z",
     "shell.execute_reply": "2025-05-12T18:38:27.137803Z"
    },
    "papermill": {
     "duration": 0.016641,
     "end_time": "2025-05-12T18:38:27.139829",
     "exception": false,
     "start_time": "2025-05-12T18:38:27.123188",
     "status": "completed"
    },
    "tags": []
   },
   "outputs": [],
   "source": [
    "# now we only need the name of the director of the movie\n",
    "def find_director(obj):\n",
    "    lst = []\n",
    "    data = json.loads(obj)\n",
    "    for i in data:\n",
    "        if i['job'] == 'Director':\n",
    "            lst.append(i['name'])\n",
    "            break\n",
    "    return lst\n"
   ]
  },
  {
   "cell_type": "code",
   "execution_count": 26,
   "id": "54429c8d",
   "metadata": {
    "execution": {
     "iopub.execute_input": "2025-05-12T18:38:27.159789Z",
     "iopub.status.busy": "2025-05-12T18:38:27.159548Z",
     "iopub.status.idle": "2025-05-12T18:38:27.374190Z",
     "shell.execute_reply": "2025-05-12T18:38:27.373462Z"
    },
    "papermill": {
     "duration": 0.226395,
     "end_time": "2025-05-12T18:38:27.375873",
     "exception": false,
     "start_time": "2025-05-12T18:38:27.149478",
     "status": "completed"
    },
    "tags": []
   },
   "outputs": [],
   "source": [
    "movies['crew'] = movies['crew'].apply(find_director)"
   ]
  },
  {
   "cell_type": "code",
   "execution_count": 27,
   "id": "c93d624e",
   "metadata": {
    "execution": {
     "iopub.execute_input": "2025-05-12T18:38:27.396852Z",
     "iopub.status.busy": "2025-05-12T18:38:27.396582Z",
     "iopub.status.idle": "2025-05-12T18:38:27.411253Z",
     "shell.execute_reply": "2025-05-12T18:38:27.410414Z"
    },
    "papermill": {
     "duration": 0.026797,
     "end_time": "2025-05-12T18:38:27.412575",
     "exception": false,
     "start_time": "2025-05-12T18:38:27.385778",
     "status": "completed"
    },
    "tags": []
   },
   "outputs": [
    {
     "data": {
      "text/html": [
       "<div>\n",
       "<style scoped>\n",
       "    .dataframe tbody tr th:only-of-type {\n",
       "        vertical-align: middle;\n",
       "    }\n",
       "\n",
       "    .dataframe tbody tr th {\n",
       "        vertical-align: top;\n",
       "    }\n",
       "\n",
       "    .dataframe thead th {\n",
       "        text-align: right;\n",
       "    }\n",
       "</style>\n",
       "<table border=\"1\" class=\"dataframe\">\n",
       "  <thead>\n",
       "    <tr style=\"text-align: right;\">\n",
       "      <th></th>\n",
       "      <th>movie_id</th>\n",
       "      <th>title</th>\n",
       "      <th>overview</th>\n",
       "      <th>genres</th>\n",
       "      <th>keywords</th>\n",
       "      <th>cast</th>\n",
       "      <th>crew</th>\n",
       "    </tr>\n",
       "  </thead>\n",
       "  <tbody>\n",
       "    <tr>\n",
       "      <th>0</th>\n",
       "      <td>19995</td>\n",
       "      <td>Avatar</td>\n",
       "      <td>In the 22nd century, a paraplegic Marine is di...</td>\n",
       "      <td>[Action, Adventure, Fantasy, Science Fiction]</td>\n",
       "      <td>[culture clash, future, space war, space colon...</td>\n",
       "      <td>[Sam Worthington, Zoe Saldana, Sigourney Weaver]</td>\n",
       "      <td>[James Cameron]</td>\n",
       "    </tr>\n",
       "    <tr>\n",
       "      <th>1</th>\n",
       "      <td>285</td>\n",
       "      <td>Pirates of the Caribbean: At World's End</td>\n",
       "      <td>Captain Barbossa, long believed to be dead, ha...</td>\n",
       "      <td>[Adventure, Fantasy, Action]</td>\n",
       "      <td>[ocean, drug abuse, exotic island, east india ...</td>\n",
       "      <td>[Johnny Depp, Orlando Bloom, Keira Knightley]</td>\n",
       "      <td>[Gore Verbinski]</td>\n",
       "    </tr>\n",
       "    <tr>\n",
       "      <th>2</th>\n",
       "      <td>206647</td>\n",
       "      <td>Spectre</td>\n",
       "      <td>A cryptic message from Bond’s past sends him o...</td>\n",
       "      <td>[Action, Adventure, Crime]</td>\n",
       "      <td>[spy, based on novel, secret agent, sequel, mi...</td>\n",
       "      <td>[Daniel Craig, Christoph Waltz, Léa Seydoux]</td>\n",
       "      <td>[Sam Mendes]</td>\n",
       "    </tr>\n",
       "    <tr>\n",
       "      <th>3</th>\n",
       "      <td>49026</td>\n",
       "      <td>The Dark Knight Rises</td>\n",
       "      <td>Following the death of District Attorney Harve...</td>\n",
       "      <td>[Action, Crime, Drama, Thriller]</td>\n",
       "      <td>[dc comics, crime fighter, terrorist, secret i...</td>\n",
       "      <td>[Christian Bale, Michael Caine, Gary Oldman]</td>\n",
       "      <td>[Christopher Nolan]</td>\n",
       "    </tr>\n",
       "    <tr>\n",
       "      <th>4</th>\n",
       "      <td>49529</td>\n",
       "      <td>John Carter</td>\n",
       "      <td>John Carter is a war-weary, former military ca...</td>\n",
       "      <td>[Action, Adventure, Science Fiction]</td>\n",
       "      <td>[based on novel, mars, medallion, space travel...</td>\n",
       "      <td>[Taylor Kitsch, Lynn Collins, Samantha Morton]</td>\n",
       "      <td>[Andrew Stanton]</td>\n",
       "    </tr>\n",
       "  </tbody>\n",
       "</table>\n",
       "</div>"
      ],
      "text/plain": [
       "   movie_id                                     title  \\\n",
       "0     19995                                    Avatar   \n",
       "1       285  Pirates of the Caribbean: At World's End   \n",
       "2    206647                                   Spectre   \n",
       "3     49026                     The Dark Knight Rises   \n",
       "4     49529                               John Carter   \n",
       "\n",
       "                                            overview  \\\n",
       "0  In the 22nd century, a paraplegic Marine is di...   \n",
       "1  Captain Barbossa, long believed to be dead, ha...   \n",
       "2  A cryptic message from Bond’s past sends him o...   \n",
       "3  Following the death of District Attorney Harve...   \n",
       "4  John Carter is a war-weary, former military ca...   \n",
       "\n",
       "                                          genres  \\\n",
       "0  [Action, Adventure, Fantasy, Science Fiction]   \n",
       "1                   [Adventure, Fantasy, Action]   \n",
       "2                     [Action, Adventure, Crime]   \n",
       "3               [Action, Crime, Drama, Thriller]   \n",
       "4           [Action, Adventure, Science Fiction]   \n",
       "\n",
       "                                            keywords  \\\n",
       "0  [culture clash, future, space war, space colon...   \n",
       "1  [ocean, drug abuse, exotic island, east india ...   \n",
       "2  [spy, based on novel, secret agent, sequel, mi...   \n",
       "3  [dc comics, crime fighter, terrorist, secret i...   \n",
       "4  [based on novel, mars, medallion, space travel...   \n",
       "\n",
       "                                               cast                 crew  \n",
       "0  [Sam Worthington, Zoe Saldana, Sigourney Weaver]      [James Cameron]  \n",
       "1     [Johnny Depp, Orlando Bloom, Keira Knightley]     [Gore Verbinski]  \n",
       "2      [Daniel Craig, Christoph Waltz, Léa Seydoux]         [Sam Mendes]  \n",
       "3      [Christian Bale, Michael Caine, Gary Oldman]  [Christopher Nolan]  \n",
       "4    [Taylor Kitsch, Lynn Collins, Samantha Morton]     [Andrew Stanton]  "
      ]
     },
     "execution_count": 27,
     "metadata": {},
     "output_type": "execute_result"
    }
   ],
   "source": [
    "movies.head()"
   ]
  },
  {
   "cell_type": "code",
   "execution_count": 28,
   "id": "5bf8cc94",
   "metadata": {
    "execution": {
     "iopub.execute_input": "2025-05-12T18:38:27.433720Z",
     "iopub.status.busy": "2025-05-12T18:38:27.433448Z",
     "iopub.status.idle": "2025-05-12T18:38:27.473980Z",
     "shell.execute_reply": "2025-05-12T18:38:27.473273Z"
    },
    "papermill": {
     "duration": 0.052851,
     "end_time": "2025-05-12T18:38:27.475560",
     "exception": false,
     "start_time": "2025-05-12T18:38:27.422709",
     "status": "completed"
    },
    "tags": []
   },
   "outputs": [],
   "source": [
    "# in the overview column we have a list and we need to convert it to list\n",
    "movies['overview'] = movies['overview'].apply(lambda x:x.split())"
   ]
  },
  {
   "cell_type": "code",
   "execution_count": 29,
   "id": "b028996e",
   "metadata": {
    "execution": {
     "iopub.execute_input": "2025-05-12T18:38:27.496880Z",
     "iopub.status.busy": "2025-05-12T18:38:27.496593Z",
     "iopub.status.idle": "2025-05-12T18:38:27.508418Z",
     "shell.execute_reply": "2025-05-12T18:38:27.507571Z"
    },
    "papermill": {
     "duration": 0.024185,
     "end_time": "2025-05-12T18:38:27.509833",
     "exception": false,
     "start_time": "2025-05-12T18:38:27.485648",
     "status": "completed"
    },
    "tags": []
   },
   "outputs": [
    {
     "data": {
      "text/html": [
       "<div>\n",
       "<style scoped>\n",
       "    .dataframe tbody tr th:only-of-type {\n",
       "        vertical-align: middle;\n",
       "    }\n",
       "\n",
       "    .dataframe tbody tr th {\n",
       "        vertical-align: top;\n",
       "    }\n",
       "\n",
       "    .dataframe thead th {\n",
       "        text-align: right;\n",
       "    }\n",
       "</style>\n",
       "<table border=\"1\" class=\"dataframe\">\n",
       "  <thead>\n",
       "    <tr style=\"text-align: right;\">\n",
       "      <th></th>\n",
       "      <th>movie_id</th>\n",
       "      <th>title</th>\n",
       "      <th>overview</th>\n",
       "      <th>genres</th>\n",
       "      <th>keywords</th>\n",
       "      <th>cast</th>\n",
       "      <th>crew</th>\n",
       "    </tr>\n",
       "  </thead>\n",
       "  <tbody>\n",
       "    <tr>\n",
       "      <th>0</th>\n",
       "      <td>19995</td>\n",
       "      <td>Avatar</td>\n",
       "      <td>[In, the, 22nd, century,, a, paraplegic, Marin...</td>\n",
       "      <td>[Action, Adventure, Fantasy, Science Fiction]</td>\n",
       "      <td>[culture clash, future, space war, space colon...</td>\n",
       "      <td>[Sam Worthington, Zoe Saldana, Sigourney Weaver]</td>\n",
       "      <td>[James Cameron]</td>\n",
       "    </tr>\n",
       "  </tbody>\n",
       "</table>\n",
       "</div>"
      ],
      "text/plain": [
       "   movie_id   title                                           overview  \\\n",
       "0     19995  Avatar  [In, the, 22nd, century,, a, paraplegic, Marin...   \n",
       "\n",
       "                                          genres  \\\n",
       "0  [Action, Adventure, Fantasy, Science Fiction]   \n",
       "\n",
       "                                            keywords  \\\n",
       "0  [culture clash, future, space war, space colon...   \n",
       "\n",
       "                                               cast             crew  \n",
       "0  [Sam Worthington, Zoe Saldana, Sigourney Weaver]  [James Cameron]  "
      ]
     },
     "execution_count": 29,
     "metadata": {},
     "output_type": "execute_result"
    }
   ],
   "source": [
    "movies.head(1)"
   ]
  },
  {
   "cell_type": "code",
   "execution_count": 30,
   "id": "2823e61b",
   "metadata": {
    "execution": {
     "iopub.execute_input": "2025-05-12T18:38:27.531601Z",
     "iopub.status.busy": "2025-05-12T18:38:27.531318Z",
     "iopub.status.idle": "2025-05-12T18:38:27.565297Z",
     "shell.execute_reply": "2025-05-12T18:38:27.564617Z"
    },
    "papermill": {
     "duration": 0.046451,
     "end_time": "2025-05-12T18:38:27.566827",
     "exception": false,
     "start_time": "2025-05-12T18:38:27.520376",
     "status": "completed"
    },
    "tags": []
   },
   "outputs": [],
   "source": [
    "# now will remove the spaces between the names or words like Haris Khan should\n",
    "# HarisKhan so that the model donot get Confuse with Haris Imtiaz \n",
    "# Transformation Haris Khan into HarisKhan and Haris Imtiaz into HarisImtiaz\n",
    "\n",
    "movies['genres'] = movies['genres'].apply(lambda x:[i.replace(\" \", \"\") for i in x])\n",
    "movies['keywords'] = movies['keywords'].apply(lambda x:[i.replace(\" \", \"\") for i in x])\n",
    "movies['cast'] = movies['cast'].apply(lambda x:[i.replace(\" \", \"\") for i in x])\n",
    "movies['crew'] = movies['crew'].apply(lambda x:[i.replace(\" \", \"\") for i in x])"
   ]
  },
  {
   "cell_type": "code",
   "execution_count": 31,
   "id": "2f93900c",
   "metadata": {
    "execution": {
     "iopub.execute_input": "2025-05-12T18:38:27.588308Z",
     "iopub.status.busy": "2025-05-12T18:38:27.587972Z",
     "iopub.status.idle": "2025-05-12T18:38:27.598638Z",
     "shell.execute_reply": "2025-05-12T18:38:27.597971Z"
    },
    "papermill": {
     "duration": 0.022876,
     "end_time": "2025-05-12T18:38:27.599919",
     "exception": false,
     "start_time": "2025-05-12T18:38:27.577043",
     "status": "completed"
    },
    "tags": []
   },
   "outputs": [
    {
     "data": {
      "text/html": [
       "<div>\n",
       "<style scoped>\n",
       "    .dataframe tbody tr th:only-of-type {\n",
       "        vertical-align: middle;\n",
       "    }\n",
       "\n",
       "    .dataframe tbody tr th {\n",
       "        vertical-align: top;\n",
       "    }\n",
       "\n",
       "    .dataframe thead th {\n",
       "        text-align: right;\n",
       "    }\n",
       "</style>\n",
       "<table border=\"1\" class=\"dataframe\">\n",
       "  <thead>\n",
       "    <tr style=\"text-align: right;\">\n",
       "      <th></th>\n",
       "      <th>movie_id</th>\n",
       "      <th>title</th>\n",
       "      <th>overview</th>\n",
       "      <th>genres</th>\n",
       "      <th>keywords</th>\n",
       "      <th>cast</th>\n",
       "      <th>crew</th>\n",
       "    </tr>\n",
       "  </thead>\n",
       "  <tbody>\n",
       "    <tr>\n",
       "      <th>0</th>\n",
       "      <td>19995</td>\n",
       "      <td>Avatar</td>\n",
       "      <td>[In, the, 22nd, century,, a, paraplegic, Marin...</td>\n",
       "      <td>[Action, Adventure, Fantasy, ScienceFiction]</td>\n",
       "      <td>[cultureclash, future, spacewar, spacecolony, ...</td>\n",
       "      <td>[SamWorthington, ZoeSaldana, SigourneyWeaver]</td>\n",
       "      <td>[JamesCameron]</td>\n",
       "    </tr>\n",
       "  </tbody>\n",
       "</table>\n",
       "</div>"
      ],
      "text/plain": [
       "   movie_id   title                                           overview  \\\n",
       "0     19995  Avatar  [In, the, 22nd, century,, a, paraplegic, Marin...   \n",
       "\n",
       "                                         genres  \\\n",
       "0  [Action, Adventure, Fantasy, ScienceFiction]   \n",
       "\n",
       "                                            keywords  \\\n",
       "0  [cultureclash, future, spacewar, spacecolony, ...   \n",
       "\n",
       "                                            cast            crew  \n",
       "0  [SamWorthington, ZoeSaldana, SigourneyWeaver]  [JamesCameron]  "
      ]
     },
     "execution_count": 31,
     "metadata": {},
     "output_type": "execute_result"
    }
   ],
   "source": [
    "# now the space is removed from all the columns\n",
    "movies.head(1)"
   ]
  },
  {
   "cell_type": "code",
   "execution_count": 32,
   "id": "8ed18297",
   "metadata": {
    "execution": {
     "iopub.execute_input": "2025-05-12T18:38:27.621320Z",
     "iopub.status.busy": "2025-05-12T18:38:27.620975Z",
     "iopub.status.idle": "2025-05-12T18:38:27.671899Z",
     "shell.execute_reply": "2025-05-12T18:38:27.671147Z"
    },
    "papermill": {
     "duration": 0.063342,
     "end_time": "2025-05-12T18:38:27.673481",
     "exception": false,
     "start_time": "2025-05-12T18:38:27.610139",
     "status": "completed"
    },
    "tags": []
   },
   "outputs": [],
   "source": [
    "# now will create a new column name \"tags\" from overview, genres, keywords, cast and crew\n",
    "# as the recommandation is system is based on the tags (content base)\n",
    "\n",
    "movies['tags'] = movies['overview'] + movies['genres'] + movies['keywords'] + movies['cast'] + movies['crew']"
   ]
  },
  {
   "cell_type": "code",
   "execution_count": 33,
   "id": "a9ee4b56",
   "metadata": {
    "execution": {
     "iopub.execute_input": "2025-05-12T18:38:27.696741Z",
     "iopub.status.busy": "2025-05-12T18:38:27.696464Z",
     "iopub.status.idle": "2025-05-12T18:38:27.708112Z",
     "shell.execute_reply": "2025-05-12T18:38:27.707437Z"
    },
    "papermill": {
     "duration": 0.024082,
     "end_time": "2025-05-12T18:38:27.709445",
     "exception": false,
     "start_time": "2025-05-12T18:38:27.685363",
     "status": "completed"
    },
    "tags": []
   },
   "outputs": [
    {
     "data": {
      "text/html": [
       "<div>\n",
       "<style scoped>\n",
       "    .dataframe tbody tr th:only-of-type {\n",
       "        vertical-align: middle;\n",
       "    }\n",
       "\n",
       "    .dataframe tbody tr th {\n",
       "        vertical-align: top;\n",
       "    }\n",
       "\n",
       "    .dataframe thead th {\n",
       "        text-align: right;\n",
       "    }\n",
       "</style>\n",
       "<table border=\"1\" class=\"dataframe\">\n",
       "  <thead>\n",
       "    <tr style=\"text-align: right;\">\n",
       "      <th></th>\n",
       "      <th>movie_id</th>\n",
       "      <th>title</th>\n",
       "      <th>overview</th>\n",
       "      <th>genres</th>\n",
       "      <th>keywords</th>\n",
       "      <th>cast</th>\n",
       "      <th>crew</th>\n",
       "      <th>tags</th>\n",
       "    </tr>\n",
       "  </thead>\n",
       "  <tbody>\n",
       "    <tr>\n",
       "      <th>0</th>\n",
       "      <td>19995</td>\n",
       "      <td>Avatar</td>\n",
       "      <td>[In, the, 22nd, century,, a, paraplegic, Marin...</td>\n",
       "      <td>[Action, Adventure, Fantasy, ScienceFiction]</td>\n",
       "      <td>[cultureclash, future, spacewar, spacecolony, ...</td>\n",
       "      <td>[SamWorthington, ZoeSaldana, SigourneyWeaver]</td>\n",
       "      <td>[JamesCameron]</td>\n",
       "      <td>[In, the, 22nd, century,, a, paraplegic, Marin...</td>\n",
       "    </tr>\n",
       "  </tbody>\n",
       "</table>\n",
       "</div>"
      ],
      "text/plain": [
       "   movie_id   title                                           overview  \\\n",
       "0     19995  Avatar  [In, the, 22nd, century,, a, paraplegic, Marin...   \n",
       "\n",
       "                                         genres  \\\n",
       "0  [Action, Adventure, Fantasy, ScienceFiction]   \n",
       "\n",
       "                                            keywords  \\\n",
       "0  [cultureclash, future, spacewar, spacecolony, ...   \n",
       "\n",
       "                                            cast            crew  \\\n",
       "0  [SamWorthington, ZoeSaldana, SigourneyWeaver]  [JamesCameron]   \n",
       "\n",
       "                                                tags  \n",
       "0  [In, the, 22nd, century,, a, paraplegic, Marin...  "
      ]
     },
     "execution_count": 33,
     "metadata": {},
     "output_type": "execute_result"
    }
   ],
   "source": [
    "# tags column created\n",
    "movies.head(1)"
   ]
  },
  {
   "cell_type": "code",
   "execution_count": 34,
   "id": "7c9b8826",
   "metadata": {
    "execution": {
     "iopub.execute_input": "2025-05-12T18:38:27.731779Z",
     "iopub.status.busy": "2025-05-12T18:38:27.731491Z",
     "iopub.status.idle": "2025-05-12T18:38:27.736657Z",
     "shell.execute_reply": "2025-05-12T18:38:27.735953Z"
    },
    "papermill": {
     "duration": 0.018011,
     "end_time": "2025-05-12T18:38:27.737906",
     "exception": false,
     "start_time": "2025-05-12T18:38:27.719895",
     "status": "completed"
    },
    "tags": []
   },
   "outputs": [],
   "source": [
    "# now we donnot need the overview, genres, keywords,cast and crew column \n",
    "# creating new data frame\n",
    "\n",
    "new_df = movies[['movie_id', 'title', 'tags']]"
   ]
  },
  {
   "cell_type": "code",
   "execution_count": 35,
   "id": "3e88ff44",
   "metadata": {
    "execution": {
     "iopub.execute_input": "2025-05-12T18:38:27.759372Z",
     "iopub.status.busy": "2025-05-12T18:38:27.759011Z",
     "iopub.status.idle": "2025-05-12T18:38:27.769292Z",
     "shell.execute_reply": "2025-05-12T18:38:27.768620Z"
    },
    "papermill": {
     "duration": 0.022595,
     "end_time": "2025-05-12T18:38:27.770512",
     "exception": false,
     "start_time": "2025-05-12T18:38:27.747917",
     "status": "completed"
    },
    "tags": []
   },
   "outputs": [
    {
     "data": {
      "text/html": [
       "<div>\n",
       "<style scoped>\n",
       "    .dataframe tbody tr th:only-of-type {\n",
       "        vertical-align: middle;\n",
       "    }\n",
       "\n",
       "    .dataframe tbody tr th {\n",
       "        vertical-align: top;\n",
       "    }\n",
       "\n",
       "    .dataframe thead th {\n",
       "        text-align: right;\n",
       "    }\n",
       "</style>\n",
       "<table border=\"1\" class=\"dataframe\">\n",
       "  <thead>\n",
       "    <tr style=\"text-align: right;\">\n",
       "      <th></th>\n",
       "      <th>movie_id</th>\n",
       "      <th>title</th>\n",
       "      <th>tags</th>\n",
       "    </tr>\n",
       "  </thead>\n",
       "  <tbody>\n",
       "    <tr>\n",
       "      <th>0</th>\n",
       "      <td>19995</td>\n",
       "      <td>Avatar</td>\n",
       "      <td>[In, the, 22nd, century,, a, paraplegic, Marin...</td>\n",
       "    </tr>\n",
       "    <tr>\n",
       "      <th>1</th>\n",
       "      <td>285</td>\n",
       "      <td>Pirates of the Caribbean: At World's End</td>\n",
       "      <td>[Captain, Barbossa,, long, believed, to, be, d...</td>\n",
       "    </tr>\n",
       "    <tr>\n",
       "      <th>2</th>\n",
       "      <td>206647</td>\n",
       "      <td>Spectre</td>\n",
       "      <td>[A, cryptic, message, from, Bond’s, past, send...</td>\n",
       "    </tr>\n",
       "    <tr>\n",
       "      <th>3</th>\n",
       "      <td>49026</td>\n",
       "      <td>The Dark Knight Rises</td>\n",
       "      <td>[Following, the, death, of, District, Attorney...</td>\n",
       "    </tr>\n",
       "    <tr>\n",
       "      <th>4</th>\n",
       "      <td>49529</td>\n",
       "      <td>John Carter</td>\n",
       "      <td>[John, Carter, is, a, war-weary,, former, mili...</td>\n",
       "    </tr>\n",
       "  </tbody>\n",
       "</table>\n",
       "</div>"
      ],
      "text/plain": [
       "   movie_id                                     title  \\\n",
       "0     19995                                    Avatar   \n",
       "1       285  Pirates of the Caribbean: At World's End   \n",
       "2    206647                                   Spectre   \n",
       "3     49026                     The Dark Knight Rises   \n",
       "4     49529                               John Carter   \n",
       "\n",
       "                                                tags  \n",
       "0  [In, the, 22nd, century,, a, paraplegic, Marin...  \n",
       "1  [Captain, Barbossa,, long, believed, to, be, d...  \n",
       "2  [A, cryptic, message, from, Bond’s, past, send...  \n",
       "3  [Following, the, death, of, District, Attorney...  \n",
       "4  [John, Carter, is, a, war-weary,, former, mili...  "
      ]
     },
     "execution_count": 35,
     "metadata": {},
     "output_type": "execute_result"
    }
   ],
   "source": [
    "new_df.head()"
   ]
  },
  {
   "cell_type": "code",
   "execution_count": 36,
   "id": "06508c97",
   "metadata": {
    "execution": {
     "iopub.execute_input": "2025-05-12T18:38:27.792532Z",
     "iopub.status.busy": "2025-05-12T18:38:27.792173Z",
     "iopub.status.idle": "2025-05-12T18:38:27.809079Z",
     "shell.execute_reply": "2025-05-12T18:38:27.808262Z"
    },
    "papermill": {
     "duration": 0.029707,
     "end_time": "2025-05-12T18:38:27.810518",
     "exception": false,
     "start_time": "2025-05-12T18:38:27.780811",
     "status": "completed"
    },
    "tags": []
   },
   "outputs": [
    {
     "name": "stderr",
     "output_type": "stream",
     "text": [
      "/tmp/ipykernel_13/3420269847.py:3: SettingWithCopyWarning: \n",
      "A value is trying to be set on a copy of a slice from a DataFrame.\n",
      "Try using .loc[row_indexer,col_indexer] = value instead\n",
      "\n",
      "See the caveats in the documentation: https://pandas.pydata.org/pandas-docs/stable/user_guide/indexing.html#returning-a-view-versus-a-copy\n",
      "  new_df['tags'] = new_df['tags'].apply(lambda x:\" \".join(x))\n"
     ]
    }
   ],
   "source": [
    "# now convert the list of tags into a string\n",
    "\n",
    "new_df['tags'] = new_df['tags'].apply(lambda x:\" \".join(x))"
   ]
  },
  {
   "cell_type": "code",
   "execution_count": 37,
   "id": "89677651",
   "metadata": {
    "execution": {
     "iopub.execute_input": "2025-05-12T18:38:27.832897Z",
     "iopub.status.busy": "2025-05-12T18:38:27.832635Z",
     "iopub.status.idle": "2025-05-12T18:38:27.840858Z",
     "shell.execute_reply": "2025-05-12T18:38:27.839847Z"
    },
    "papermill": {
     "duration": 0.020812,
     "end_time": "2025-05-12T18:38:27.842140",
     "exception": false,
     "start_time": "2025-05-12T18:38:27.821328",
     "status": "completed"
    },
    "tags": []
   },
   "outputs": [
    {
     "data": {
      "text/html": [
       "<div>\n",
       "<style scoped>\n",
       "    .dataframe tbody tr th:only-of-type {\n",
       "        vertical-align: middle;\n",
       "    }\n",
       "\n",
       "    .dataframe tbody tr th {\n",
       "        vertical-align: top;\n",
       "    }\n",
       "\n",
       "    .dataframe thead th {\n",
       "        text-align: right;\n",
       "    }\n",
       "</style>\n",
       "<table border=\"1\" class=\"dataframe\">\n",
       "  <thead>\n",
       "    <tr style=\"text-align: right;\">\n",
       "      <th></th>\n",
       "      <th>movie_id</th>\n",
       "      <th>title</th>\n",
       "      <th>tags</th>\n",
       "    </tr>\n",
       "  </thead>\n",
       "  <tbody>\n",
       "    <tr>\n",
       "      <th>0</th>\n",
       "      <td>19995</td>\n",
       "      <td>Avatar</td>\n",
       "      <td>In the 22nd century, a paraplegic Marine is di...</td>\n",
       "    </tr>\n",
       "  </tbody>\n",
       "</table>\n",
       "</div>"
      ],
      "text/plain": [
       "   movie_id   title                                               tags\n",
       "0     19995  Avatar  In the 22nd century, a paraplegic Marine is di..."
      ]
     },
     "execution_count": 37,
     "metadata": {},
     "output_type": "execute_result"
    }
   ],
   "source": [
    "# we got the string\n",
    "new_df.head(1)"
   ]
  },
  {
   "cell_type": "code",
   "execution_count": 38,
   "id": "25376858",
   "metadata": {
    "execution": {
     "iopub.execute_input": "2025-05-12T18:38:27.864729Z",
     "iopub.status.busy": "2025-05-12T18:38:27.864101Z",
     "iopub.status.idle": "2025-05-12T18:38:27.869281Z",
     "shell.execute_reply": "2025-05-12T18:38:27.868516Z"
    },
    "papermill": {
     "duration": 0.017757,
     "end_time": "2025-05-12T18:38:27.870557",
     "exception": false,
     "start_time": "2025-05-12T18:38:27.852800",
     "status": "completed"
    },
    "tags": []
   },
   "outputs": [
    {
     "data": {
      "text/plain": [
       "'In the 22nd century, a paraplegic Marine is dispatched to the moon Pandora on a unique mission, but becomes torn between following orders and protecting an alien civilization. Action Adventure Fantasy ScienceFiction cultureclash future spacewar spacecolony society spacetravel futuristic romance space alien tribe alienplanet cgi marine soldier battle loveaffair antiwar powerrelations mindandsoul 3d SamWorthington ZoeSaldana SigourneyWeaver JamesCameron'"
      ]
     },
     "execution_count": 38,
     "metadata": {},
     "output_type": "execute_result"
    }
   ],
   "source": [
    "new_df['tags'][0]"
   ]
  },
  {
   "cell_type": "code",
   "execution_count": 39,
   "id": "a0821789",
   "metadata": {
    "execution": {
     "iopub.execute_input": "2025-05-12T18:38:27.893402Z",
     "iopub.status.busy": "2025-05-12T18:38:27.893027Z",
     "iopub.status.idle": "2025-05-12T18:38:27.908021Z",
     "shell.execute_reply": "2025-05-12T18:38:27.907078Z"
    },
    "papermill": {
     "duration": 0.02786,
     "end_time": "2025-05-12T18:38:27.909236",
     "exception": false,
     "start_time": "2025-05-12T18:38:27.881376",
     "status": "completed"
    },
    "tags": []
   },
   "outputs": [
    {
     "name": "stderr",
     "output_type": "stream",
     "text": [
      "/tmp/ipykernel_13/2472448612.py:2: SettingWithCopyWarning: \n",
      "A value is trying to be set on a copy of a slice from a DataFrame.\n",
      "Try using .loc[row_indexer,col_indexer] = value instead\n",
      "\n",
      "See the caveats in the documentation: https://pandas.pydata.org/pandas-docs/stable/user_guide/indexing.html#returning-a-view-versus-a-copy\n",
      "  new_df['tags'] = new_df['tags'].apply(lambda x:x.lower())\n"
     ]
    }
   ],
   "source": [
    "# now to covert all the words into lower case\n",
    "new_df['tags'] = new_df['tags'].apply(lambda x:x.lower())"
   ]
  },
  {
   "cell_type": "code",
   "execution_count": 40,
   "id": "c10f6e70",
   "metadata": {
    "execution": {
     "iopub.execute_input": "2025-05-12T18:38:27.931914Z",
     "iopub.status.busy": "2025-05-12T18:38:27.931609Z",
     "iopub.status.idle": "2025-05-12T18:38:27.936911Z",
     "shell.execute_reply": "2025-05-12T18:38:27.936257Z"
    },
    "papermill": {
     "duration": 0.018306,
     "end_time": "2025-05-12T18:38:27.938248",
     "exception": false,
     "start_time": "2025-05-12T18:38:27.919942",
     "status": "completed"
    },
    "tags": []
   },
   "outputs": [
    {
     "data": {
      "text/plain": [
       "'in the 22nd century, a paraplegic marine is dispatched to the moon pandora on a unique mission, but becomes torn between following orders and protecting an alien civilization. action adventure fantasy sciencefiction cultureclash future spacewar spacecolony society spacetravel futuristic romance space alien tribe alienplanet cgi marine soldier battle loveaffair antiwar powerrelations mindandsoul 3d samworthington zoesaldana sigourneyweaver jamescameron'"
      ]
     },
     "execution_count": 40,
     "metadata": {},
     "output_type": "execute_result"
    }
   ],
   "source": [
    "# preprocessing done\n",
    "new_df['tags'][0]"
   ]
  },
  {
   "cell_type": "code",
   "execution_count": 41,
   "id": "28251a18",
   "metadata": {
    "execution": {
     "iopub.execute_input": "2025-05-12T18:38:27.962486Z",
     "iopub.status.busy": "2025-05-12T18:38:27.961818Z",
     "iopub.status.idle": "2025-05-12T18:38:30.082184Z",
     "shell.execute_reply": "2025-05-12T18:38:30.081283Z"
    },
    "papermill": {
     "duration": 2.134167,
     "end_time": "2025-05-12T18:38:30.083847",
     "exception": false,
     "start_time": "2025-05-12T18:38:27.949680",
     "status": "completed"
    },
    "tags": []
   },
   "outputs": [],
   "source": [
    "\"\"\" \n",
    "    now there is words that need to be in its base form like tere is words\n",
    "    like action, actions which is same\n",
    "    loved, loving, love ---> love, love, love\n",
    "\"\"\"\n",
    "import nltk"
   ]
  },
  {
   "cell_type": "code",
   "execution_count": 42,
   "id": "eec4c8f0",
   "metadata": {
    "execution": {
     "iopub.execute_input": "2025-05-12T18:38:30.110450Z",
     "iopub.status.busy": "2025-05-12T18:38:30.109973Z",
     "iopub.status.idle": "2025-05-12T18:38:30.114000Z",
     "shell.execute_reply": "2025-05-12T18:38:30.113378Z"
    },
    "papermill": {
     "duration": 0.019289,
     "end_time": "2025-05-12T18:38:30.115161",
     "exception": false,
     "start_time": "2025-05-12T18:38:30.095872",
     "status": "completed"
    },
    "tags": []
   },
   "outputs": [],
   "source": [
    "from nltk.stem.porter import PorterStemmer\n",
    "ps = PorterStemmer()"
   ]
  },
  {
   "cell_type": "code",
   "execution_count": 43,
   "id": "e6b8c8a0",
   "metadata": {
    "execution": {
     "iopub.execute_input": "2025-05-12T18:38:30.138837Z",
     "iopub.status.busy": "2025-05-12T18:38:30.138538Z",
     "iopub.status.idle": "2025-05-12T18:38:30.143031Z",
     "shell.execute_reply": "2025-05-12T18:38:30.142385Z"
    },
    "papermill": {
     "duration": 0.018144,
     "end_time": "2025-05-12T18:38:30.144559",
     "exception": false,
     "start_time": "2025-05-12T18:38:30.126415",
     "status": "completed"
    },
    "tags": []
   },
   "outputs": [],
   "source": [
    "# helper function to convert words to its base form\n",
    "def stem(text):\n",
    "    y = []\n",
    "    for i in text.split():\n",
    "        # print(i)\n",
    "        y.append(ps.stem(i))\n",
    "    return \" \".join(y)"
   ]
  },
  {
   "cell_type": "code",
   "execution_count": 44,
   "id": "39f6d3ec",
   "metadata": {
    "execution": {
     "iopub.execute_input": "2025-05-12T18:38:30.167827Z",
     "iopub.status.busy": "2025-05-12T18:38:30.167126Z",
     "iopub.status.idle": "2025-05-12T18:38:30.171267Z",
     "shell.execute_reply": "2025-05-12T18:38:30.170570Z"
    },
    "papermill": {
     "duration": 0.016883,
     "end_time": "2025-05-12T18:38:30.172537",
     "exception": false,
     "start_time": "2025-05-12T18:38:30.155654",
     "status": "completed"
    },
    "tags": []
   },
   "outputs": [],
   "source": [
    "# stem('in the 22nd century, a paraplegic marine is dispatched to the moon pandora on a unique mission, but becomes torn between following orders and protecting an alien civilization. action adventure fantasy sciencefiction cultureclash future spacewar spacecolony society spacetravel futuristic romance space alien tribe alienplanet cgi marine soldier battle loveaffair antiwar powerrelations mindandsoul 3d samworthington zoesaldana sigourneyweaver jamescameron')"
   ]
  },
  {
   "cell_type": "code",
   "execution_count": 45,
   "id": "2deaf83e",
   "metadata": {
    "execution": {
     "iopub.execute_input": "2025-05-12T18:38:30.195525Z",
     "iopub.status.busy": "2025-05-12T18:38:30.195163Z",
     "iopub.status.idle": "2025-05-12T18:38:34.480372Z",
     "shell.execute_reply": "2025-05-12T18:38:34.479548Z"
    },
    "papermill": {
     "duration": 4.298633,
     "end_time": "2025-05-12T18:38:34.481967",
     "exception": false,
     "start_time": "2025-05-12T18:38:30.183334",
     "status": "completed"
    },
    "tags": []
   },
   "outputs": [
    {
     "name": "stderr",
     "output_type": "stream",
     "text": [
      "/tmp/ipykernel_13/3213734980.py:1: SettingWithCopyWarning: \n",
      "A value is trying to be set on a copy of a slice from a DataFrame.\n",
      "Try using .loc[row_indexer,col_indexer] = value instead\n",
      "\n",
      "See the caveats in the documentation: https://pandas.pydata.org/pandas-docs/stable/user_guide/indexing.html#returning-a-view-versus-a-copy\n",
      "  new_df['tags'] = new_df['tags'].apply(stem)\n"
     ]
    }
   ],
   "source": [
    "new_df['tags'] = new_df['tags'].apply(stem)"
   ]
  },
  {
   "cell_type": "code",
   "execution_count": 46,
   "id": "2e9ddd63",
   "metadata": {
    "execution": {
     "iopub.execute_input": "2025-05-12T18:38:34.505889Z",
     "iopub.status.busy": "2025-05-12T18:38:34.505614Z",
     "iopub.status.idle": "2025-05-12T18:38:34.510228Z",
     "shell.execute_reply": "2025-05-12T18:38:34.509353Z"
    },
    "papermill": {
     "duration": 0.018163,
     "end_time": "2025-05-12T18:38:34.511730",
     "exception": false,
     "start_time": "2025-05-12T18:38:34.493567",
     "status": "completed"
    },
    "tags": []
   },
   "outputs": [],
   "source": [
    "# creating vectors for each movie\n",
    "from sklearn.feature_extraction.text import CountVectorizer\n",
    "cv = CountVectorizer(max_features=5000, stop_words='english')"
   ]
  },
  {
   "cell_type": "code",
   "execution_count": 47,
   "id": "48cc8dfc",
   "metadata": {
    "execution": {
     "iopub.execute_input": "2025-05-12T18:38:34.534761Z",
     "iopub.status.busy": "2025-05-12T18:38:34.534102Z",
     "iopub.status.idle": "2025-05-12T18:38:35.039627Z",
     "shell.execute_reply": "2025-05-12T18:38:35.038756Z"
    },
    "papermill": {
     "duration": 0.518357,
     "end_time": "2025-05-12T18:38:35.041099",
     "exception": false,
     "start_time": "2025-05-12T18:38:34.522742",
     "status": "completed"
    },
    "tags": []
   },
   "outputs": [
    {
     "data": {
      "text/plain": [
       "(4806, 5000)"
      ]
     },
     "execution_count": 47,
     "metadata": {},
     "output_type": "execute_result"
    }
   ],
   "source": [
    "# 4806 movies (row) and 5000 words (col)\n",
    "cv.fit_transform(new_df['tags']).toarray().shape"
   ]
  },
  {
   "cell_type": "code",
   "execution_count": 48,
   "id": "8f4f31b0",
   "metadata": {
    "execution": {
     "iopub.execute_input": "2025-05-12T18:38:35.064721Z",
     "iopub.status.busy": "2025-05-12T18:38:35.064422Z",
     "iopub.status.idle": "2025-05-12T18:38:35.517614Z",
     "shell.execute_reply": "2025-05-12T18:38:35.516689Z"
    },
    "papermill": {
     "duration": 0.466833,
     "end_time": "2025-05-12T18:38:35.519336",
     "exception": false,
     "start_time": "2025-05-12T18:38:35.052503",
     "status": "completed"
    },
    "tags": []
   },
   "outputs": [],
   "source": [
    "vectors = cv.fit_transform(new_df['tags']).toarray()"
   ]
  },
  {
   "cell_type": "code",
   "execution_count": 49,
   "id": "7bca6ed4",
   "metadata": {
    "execution": {
     "iopub.execute_input": "2025-05-12T18:38:35.543563Z",
     "iopub.status.busy": "2025-05-12T18:38:35.542680Z",
     "iopub.status.idle": "2025-05-12T18:38:35.548689Z",
     "shell.execute_reply": "2025-05-12T18:38:35.547558Z"
    },
    "papermill": {
     "duration": 0.01936,
     "end_time": "2025-05-12T18:38:35.550089",
     "exception": false,
     "start_time": "2025-05-12T18:38:35.530729",
     "status": "completed"
    },
    "tags": []
   },
   "outputs": [
    {
     "data": {
      "text/plain": [
       "array([[0, 0, 0, ..., 0, 0, 0],\n",
       "       [0, 0, 0, ..., 0, 0, 0],\n",
       "       [0, 0, 0, ..., 0, 0, 0],\n",
       "       ...,\n",
       "       [0, 0, 0, ..., 0, 0, 0],\n",
       "       [0, 0, 0, ..., 0, 0, 0],\n",
       "       [0, 0, 0, ..., 0, 0, 0]])"
      ]
     },
     "execution_count": 49,
     "metadata": {},
     "output_type": "execute_result"
    }
   ],
   "source": [
    "# each movies transform into vectors\n",
    "vectors"
   ]
  },
  {
   "cell_type": "code",
   "execution_count": 50,
   "id": "8cf1d36e",
   "metadata": {
    "execution": {
     "iopub.execute_input": "2025-05-12T18:38:35.574278Z",
     "iopub.status.busy": "2025-05-12T18:38:35.573939Z",
     "iopub.status.idle": "2025-05-12T18:38:35.577739Z",
     "shell.execute_reply": "2025-05-12T18:38:35.576928Z"
    },
    "papermill": {
     "duration": 0.01709,
     "end_time": "2025-05-12T18:38:35.579009",
     "exception": false,
     "start_time": "2025-05-12T18:38:35.561919",
     "status": "completed"
    },
    "tags": []
   },
   "outputs": [],
   "source": [
    "# for i in cv.get_feature_names_out():\n",
    "#     print(i)"
   ]
  },
  {
   "cell_type": "code",
   "execution_count": 51,
   "id": "33112b2f",
   "metadata": {
    "execution": {
     "iopub.execute_input": "2025-05-12T18:38:35.602695Z",
     "iopub.status.busy": "2025-05-12T18:38:35.602367Z",
     "iopub.status.idle": "2025-05-12T18:38:35.606752Z",
     "shell.execute_reply": "2025-05-12T18:38:35.605787Z"
    },
    "papermill": {
     "duration": 0.018071,
     "end_time": "2025-05-12T18:38:35.608145",
     "exception": false,
     "start_time": "2025-05-12T18:38:35.590074",
     "status": "completed"
    },
    "tags": []
   },
   "outputs": [],
   "source": [
    "# now since the created the vectors now its to calculate the distance between each vectore\n",
    "# we are calculating the angle between the vectors since we are dealing with high dimentional array\n",
    "# cosine teetha (cosine_similarity() in sklaran)\n",
    "\n",
    "from sklearn.metrics.pairwise import cosine_similarity\n"
   ]
  },
  {
   "cell_type": "code",
   "execution_count": 52,
   "id": "b4a428d5",
   "metadata": {
    "execution": {
     "iopub.execute_input": "2025-05-12T18:38:35.632714Z",
     "iopub.status.busy": "2025-05-12T18:38:35.632362Z",
     "iopub.status.idle": "2025-05-12T18:38:37.770518Z",
     "shell.execute_reply": "2025-05-12T18:38:37.769465Z"
    },
    "papermill": {
     "duration": 2.1521,
     "end_time": "2025-05-12T18:38:37.772291",
     "exception": false,
     "start_time": "2025-05-12T18:38:35.620191",
     "status": "completed"
    },
    "tags": []
   },
   "outputs": [],
   "source": [
    "# just pass all the vectors to cosine_similarity and that will gives as the the distance between each of the vectors\n",
    "count = 1\n",
    "# cosine_similarity(vectors) #all vectors\n",
    "# cosine_similarity(vectors).shape #shape\n",
    "\n",
    "similarity = cosine_similarity(vectors)"
   ]
  },
  {
   "cell_type": "code",
   "execution_count": 53,
   "id": "4cb08c19",
   "metadata": {
    "execution": {
     "iopub.execute_input": "2025-05-12T18:38:37.796348Z",
     "iopub.status.busy": "2025-05-12T18:38:37.795709Z",
     "iopub.status.idle": "2025-05-12T18:38:37.801603Z",
     "shell.execute_reply": "2025-05-12T18:38:37.800859Z"
    },
    "papermill": {
     "duration": 0.019049,
     "end_time": "2025-05-12T18:38:37.802820",
     "exception": false,
     "start_time": "2025-05-12T18:38:37.783771",
     "status": "completed"
    },
    "tags": []
   },
   "outputs": [
    {
     "data": {
      "text/plain": [
       "array([1.        , 0.08346223, 0.0860309 , ..., 0.04499213, 0.        ,\n",
       "       0.        ])"
      ]
     },
     "execution_count": 53,
     "metadata": {},
     "output_type": "execute_result"
    }
   ],
   "source": [
    "# each row has the similarity with all the vectors (movies) as seem the first element means first has 100% similary with \n",
    "# the first movie, which is the same movie if print the second movie the second index will be 1 indicates 100% similarity\n",
    "# for i in similarity[0]:\n",
    "# diagnol of the similary will be one\n",
    "#     print(i)\n",
    "similarity[0]"
   ]
  },
  {
   "cell_type": "code",
   "execution_count": 54,
   "id": "10e85335",
   "metadata": {
    "execution": {
     "iopub.execute_input": "2025-05-12T18:38:37.826770Z",
     "iopub.status.busy": "2025-05-12T18:38:37.826494Z",
     "iopub.status.idle": "2025-05-12T18:38:37.831523Z",
     "shell.execute_reply": "2025-05-12T18:38:37.830764Z"
    },
    "papermill": {
     "duration": 0.018613,
     "end_time": "2025-05-12T18:38:37.833007",
     "exception": false,
     "start_time": "2025-05-12T18:38:37.814394",
     "status": "completed"
    },
    "tags": []
   },
   "outputs": [],
   "source": [
    "# the function return the most five similar movie to given movie\n",
    "\n",
    "def recommand(movie):\n",
    "    movie_index = new_df[new_df['title'] == movie].index[0] # index of the given movie\n",
    "    distances = similarity[movie_index] # get all the movies that is similar to the given movie (distances)\n",
    "    movies_list = sorted(list(enumerate(distances)), reverse=True, key=lambda x:x[1])[1:6] # get the most five similar movies\n",
    "\n",
    "    for i in movies_list:\n",
    "        print(new_df.iloc[i[0]].title) #title of of movie with respect to index of the movies\n",
    "        print(i[0]) # print the index of the similar movie\n",
    "    "
   ]
  },
  {
   "cell_type": "code",
   "execution_count": 55,
   "id": "fe321260",
   "metadata": {
    "execution": {
     "iopub.execute_input": "2025-05-12T18:38:37.856526Z",
     "iopub.status.busy": "2025-05-12T18:38:37.856161Z",
     "iopub.status.idle": "2025-05-12T18:38:37.866527Z",
     "shell.execute_reply": "2025-05-12T18:38:37.865379Z"
    },
    "papermill": {
     "duration": 0.023668,
     "end_time": "2025-05-12T18:38:37.867929",
     "exception": false,
     "start_time": "2025-05-12T18:38:37.844261",
     "status": "completed"
    },
    "tags": []
   },
   "outputs": [
    {
     "name": "stdout",
     "output_type": "stream",
     "text": [
      "The Toxic Avenger\n",
      "4566\n",
      "Godzilla 2000\n",
      "4348\n",
      "The Devil's Tomb\n",
      "3135\n",
      "R.L. Stine's Monsterville: The Cabinet of Souls\n",
      "3724\n",
      "The Hebrew Hammer\n",
      "4281\n"
     ]
    }
   ],
   "source": [
    "recommand('From Russia with Love')"
   ]
  },
  {
   "cell_type": "code",
   "execution_count": null,
   "id": "6eb9c27d",
   "metadata": {
    "execution": {
     "iopub.execute_input": "2025-05-12T18:33:47.832239Z",
     "iopub.status.busy": "2025-05-12T18:33:47.831910Z",
     "iopub.status.idle": "2025-05-12T18:33:47.838920Z",
     "shell.execute_reply": "2025-05-12T18:33:47.838040Z",
     "shell.execute_reply.started": "2025-05-12T18:33:47.832218Z"
    },
    "papermill": {
     "duration": 0.011195,
     "end_time": "2025-05-12T18:38:37.890977",
     "exception": false,
     "start_time": "2025-05-12T18:38:37.879782",
     "status": "completed"
    },
    "tags": []
   },
   "outputs": [],
   "source": []
  }
 ],
 "metadata": {
  "kaggle": {
   "accelerator": "none",
   "dataSources": [
    {
     "datasetId": 138,
     "sourceId": 4508,
     "sourceType": "datasetVersion"
    }
   ],
   "dockerImageVersionId": 31012,
   "isGpuEnabled": false,
   "isInternetEnabled": false,
   "language": "python",
   "sourceType": "notebook"
  },
  "kernelspec": {
   "display_name": "Python 3",
   "language": "python",
   "name": "python3"
  },
  "language_info": {
   "codemirror_mode": {
    "name": "ipython",
    "version": 3
   },
   "file_extension": ".py",
   "mimetype": "text/x-python",
   "name": "python",
   "nbconvert_exporter": "python",
   "pygments_lexer": "ipython3",
   "version": "3.11.11"
  },
  "papermill": {
   "default_parameters": {},
   "duration": 20.362602,
   "end_time": "2025-05-12T18:38:38.722498",
   "environment_variables": {},
   "exception": null,
   "input_path": "__notebook__.ipynb",
   "output_path": "__notebook__.ipynb",
   "parameters": {},
   "start_time": "2025-05-12T18:38:18.359896",
   "version": "2.6.0"
  }
 },
 "nbformat": 4,
 "nbformat_minor": 5
}
